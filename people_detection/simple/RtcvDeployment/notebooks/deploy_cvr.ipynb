{
 "metadata": {
  "language_info": {
   "codemirror_mode": {
    "name": "ipython",
    "version": 3
   },
   "file_extension": ".py",
   "mimetype": "text/x-python",
   "name": "python",
   "nbconvert_exporter": "python",
   "pygments_lexer": "ipython3",
   "version": "3.7.7-final"
  },
  "orig_nbformat": 2,
  "kernelspec": {
   "name": "Python 3.7.7 64-bit ('py37_tensorflow': conda)",
   "display_name": "Python 3.7.7 64-bit ('py37_tensorflow': conda)",
   "metadata": {
    "interpreter": {
     "hash": "dff2b3d0e27433afebda511b4307730ad56db0ccbb8f9fe7ac38fceb3358aeaf"
    }
   }
  }
 },
 "nbformat": 4,
 "nbformat_minor": 2,
 "cells": [
  {
   "cell_type": "code",
   "execution_count": null,
   "metadata": {
    "tags": []
   },
   "outputs": [],
   "source": [
    "!pip install azure-iot-device\n",
    "!pip install azure-iot-hub\n",
    "!pip install python-dotenv"
   ]
  },
  {
   "cell_type": "code",
   "execution_count": null,
   "metadata": {},
   "outputs": [],
   "source": [
    "import sys\n",
    "from dotenv import get_key, find_dotenv\n",
    "sys.path.append('../utilities/video-analysis/shared/graph_manager')\n",
    "from graph_manager import GraphManager\n",
    "\n",
    "# find the environment file .env\n",
    "env_path = find_dotenv(raise_error_if_not_found=True)\n",
    "\n",
    "iotHubConnString = get_key(env_path, \"IOT_HUB_CONN_STRING\")\n",
    "iotDeviceId = get_key(env_path, \"IOT_DEVICE_ID\")\n",
    "\n",
    "moduleId = \"lvaEdge\" # Must be same as the name that we assigned to LVA module in the \"deployment.lvaedge_rocketserver_rtspsim.template.json\" file\n",
    "operationsApiVersion = \"1.0\"  # Must be same as the version number in the \"topology.json\" file\n",
    "\n",
    "graphManager = GraphManager(iotHubConnString, iotDeviceId, moduleId, operationsApiVersion)"
   ]
  },
  {
   "cell_type": "markdown",
   "metadata": {},
   "source": [
    "### List existing topologies"
   ]
  },
  {
   "cell_type": "code",
   "execution_count": null,
   "metadata": {
    "tags": []
   },
   "outputs": [],
   "source": [
    "# List topologies\n",
    "response = graphManager.GenericCall(\"GraphTopologyList\", {})\n",
    "print(response)"
   ]
  },
  {
   "cell_type": "code",
   "execution_count": null,
   "metadata": {
    "tags": []
   },
   "outputs": [],
   "source": [
    "# List instances\n",
    "response = graphManager.GenericCall(\"GraphInstanceList\", {})\n",
    "print(response)"
   ]
  },
  {
   "cell_type": "code",
   "execution_count": null,
   "metadata": {},
   "outputs": [],
   "source": [
    "topologyFile = os.path.abspath(\"../modules/azureeyeh264module/lva-deployment/cvr-topology.json\")\n",
    "operationParams = {\"topologyFile\": topologyFile}"
   ]
  },
  {
   "cell_type": "code",
   "execution_count": null,
   "metadata": {
    "tags": []
   },
   "outputs": [],
   "source": [
    "response = graphManager.GraphTopologySet(operationParams)\n",
    "print(response)"
   ]
  },
  {
   "cell_type": "markdown",
   "metadata": {},
   "source": [
    "### Set actual topology parameters"
   ]
  },
  {
   "cell_type": "code",
   "execution_count": null,
   "metadata": {},
   "outputs": [],
   "source": [
    "rtspUrl = get_key(env_path, \"CROSSING_VIDEO_URL\")\n",
    "\n",
    "#inferencingUrl = get_key(env_path, \"PEOPLE_DETECTOR\")\n",
    "inferencingUrl=get_key(env_path, \"OPENVINO_DETECTOR\")\n",
    "\n",
    "topologyInstanceName =  \"Sample-Graph-1\"\n",
    "topologyName = \"InferencingWithHttpExtension\"\n",
    "\n",
    "mediaGraphTopologyParameters = {\n",
    "          \"name\": topologyInstanceName,\n",
    "          \"properties\": {\n",
    "            \"topologyName\": topologyName,\n",
    "            \"description\": \"Sample graph description\",\n",
    "            \"parameters\": [\n",
    "              {\n",
    "                \"name\": \"rtspUrl\",\n",
    "                \"value\": rtspUrl\n",
    "              },\n",
    "              {\n",
    "                \"name\": \"rtspUserName\",\n",
    "                \"value\": \"username\"\n",
    "              },\n",
    "              {\n",
    "                \"name\": \"rtspPassword\",\n",
    "                \"value\": \"password\"\n",
    "              },\n",
    "              {\n",
    "                \"name\": \"inferencingUrl\",\n",
    "                \"value\": inferencingUrl\n",
    "              },\n",
    "              {\n",
    "                \"name\": \"inferencingUserName\",\n",
    "                \"value\": \"username\"\n",
    "              },\n",
    "              {\n",
    "                \"name\": \"inferencingPassword\",\n",
    "                \"value\": \"password\"\n",
    "              },\n",
    "              {\n",
    "                \"name\": \"imageEncoding\",\n",
    "                \"value\": \"jpeg\"\n",
    "              },\n",
    "              {\n",
    "                \"name\": \"imageScaleMode\",\n",
    "                \"value\": \"pad\"\n",
    "              },\n",
    "              {\n",
    "                \"name\": \"frameWidth\",\n",
    "                \"value\": \"1920\"\n",
    "              },\n",
    "              {\n",
    "                \"name\": \"frameHeight\",\n",
    "                \"value\": \"1072\"\n",
    "              },\n",
    "              {\n",
    "                \"name\": \"frameRate\",\n",
    "                \"value\": \"30\"\n",
    "              }\n",
    "            ]\n",
    "          }\n",
    "        }"
   ]
  },
  {
   "cell_type": "markdown",
   "metadata": {},
   "source": [
    "#### Set topology instance"
   ]
  },
  {
   "cell_type": "code",
   "execution_count": null,
   "metadata": {
    "tags": []
   },
   "outputs": [],
   "source": [
    "# Set topology instance\n",
    "response = graphManager.GenericCall(\"GraphInstanceSet\", mediaGraphTopologyParameters)\n",
    "print(response)"
   ]
  },
  {
   "cell_type": "markdown",
   "metadata": {},
   "source": [
    "### Activate Graph"
   ]
  },
  {
   "cell_type": "code",
   "execution_count": null,
   "metadata": {
    "tags": []
   },
   "outputs": [],
   "source": [
    "# Activate topology instance\n",
    "operationParams = {\"name\": topologyInstanceName}\n",
    "\n",
    "response = graphManager.GenericCall(\"GraphInstanceActivate\", operationParams)\n",
    "print(response)"
   ]
  },
  {
   "cell_type": "markdown",
   "metadata": {},
   "source": [
    "### Deactivate Graph"
   ]
  },
  {
   "cell_type": "code",
   "execution_count": null,
   "metadata": {
    "tags": []
   },
   "outputs": [],
   "source": [
    "graphManager.GenericCall(\"GraphInstanceDeactivate\", operationParams)\n",
    "print(response)\n",
    "\n"
   ]
  },
  {
   "cell_type": "markdown",
   "metadata": {},
   "source": [
    "### Delete Graph"
   ]
  },
  {
   "cell_type": "code",
   "execution_count": null,
   "metadata": {
    "tags": []
   },
   "outputs": [],
   "source": [
    "graphManager.GenericCall(\"GraphInstanceDelete\", operationParams)\n",
    "print(response)"
   ]
  },
  {
   "cell_type": "markdown",
   "metadata": {},
   "source": [
    "### Delete Topology"
   ]
  },
  {
   "cell_type": "code",
   "execution_count": null,
   "metadata": {
    "tags": []
   },
   "outputs": [],
   "source": [
    "deleteParams = {\"name\": topologyName}\n",
    "\n",
    "graphManager.GenericCall(\"GraphTopologyDelete\", deleteParams)\n",
    "print(response)"
   ]
  }
 ]
}