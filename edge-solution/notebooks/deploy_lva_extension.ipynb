{
 "metadata": {
  "language_info": {
   "codemirror_mode": {
    "name": "ipython",
    "version": 3
   },
   "file_extension": ".py",
   "mimetype": "text/x-python",
   "name": "python",
   "nbconvert_exporter": "python",
   "pygments_lexer": "ipython3",
   "version": "3.7.7-final"
  },
  "orig_nbformat": 2,
  "kernelspec": {
   "name": "python_defaultSpec_1597269665178",
   "display_name": "Python 3.7.4 64-bit ('base': conda)"
  }
 },
 "nbformat": 4,
 "nbformat_minor": 2,
 "cells": [
  {
   "cell_type": "code",
   "execution_count": 1,
   "metadata": {
    "tags": []
   },
   "outputs": [
    {
     "output_type": "stream",
     "name": "stdout",
     "text": "Collecting azure-iot-device\n\u001b[?25l  Downloading https://files.pythonhosted.org/packages/a6/0f/ff4a8eba6d67c05e594e2e2f70b1739c3c97562f1ad0d3fbbd3aefe89b5f/azure_iot_device-2.1.4-py2.py3-none-any.whl (138kB)\n\u001b[K     |████████████████████████████████| 143kB 2.7MB/s\n\u001b[?25hRequirement already satisfied: PySocks in /home/boris/anaconda3/lib/python3.7/site-packages (from azure-iot-device) (1.7.1)\nCollecting paho-mqtt<2.0.0,>=1.4.0 (from azure-iot-device)\n\u001b[?25l  Downloading https://files.pythonhosted.org/packages/59/11/1dd5c70f0f27a88a3a05772cd95f6087ac479fac66d9c7752ee5e16ddbbc/paho-mqtt-1.5.0.tar.gz (99kB)\n\u001b[K     |████████████████████████████████| 102kB 12.0MB/s \n\u001b[?25hCollecting requests-unixsocket<1.0.0,>=0.1.5 (from azure-iot-device)\n  Downloading https://files.pythonhosted.org/packages/d0/63/97662a6f7175c08381447a09f6bc35464075f0ea6549cf6daf2668b51f04/requests_unixsocket-0.2.0-py2.py3-none-any.whl\nRequirement already satisfied: requests<3.0.0,>=2.20.0 in /home/boris/anaconda3/lib/python3.7/site-packages (from azure-iot-device) (2.20.1)\nRequirement already satisfied: six<2.0.0,>=1.12.0 in /home/boris/anaconda3/lib/python3.7/site-packages (from azure-iot-device) (1.12.0)\nCollecting janus==0.4.0; python_version >= \"3.5\" (from azure-iot-device)\n  Downloading https://files.pythonhosted.org/packages/1d/9e/e52b01cca283a6b75e817cb85121ad921a70d129581d89190ef584296180/janus-0.4.0-py3-none-any.whl\nRequirement already satisfied: urllib3!=1.25.0,!=1.25.1,<1.26,>1.21.1; python_version != \"3.4\" in /home/boris/anaconda3/lib/python3.7/site-packages (from azure-iot-device) (1.24.2)\nRequirement already satisfied: idna<2.8,>=2.5 in /home/boris/anaconda3/lib/python3.7/site-packages (from requests<3.0.0,>=2.20.0->azure-iot-device) (2.7)\nRequirement already satisfied: certifi>=2017.4.17 in /home/boris/anaconda3/lib/python3.7/site-packages (from requests<3.0.0,>=2.20.0->azure-iot-device) (2019.9.11)\nRequirement already satisfied: chardet<3.1.0,>=3.0.2 in /home/boris/anaconda3/lib/python3.7/site-packages (from requests<3.0.0,>=2.20.0->azure-iot-device) (3.0.4)\nBuilding wheels for collected packages: paho-mqtt\n  Building wheel for paho-mqtt (setup.py) ... \u001b[?25ldone\n\u001b[?25h  Created wheel for paho-mqtt: filename=paho_mqtt-1.5.0-cp37-none-any.whl size=61416 sha256=6623bf8228221a2b2e569556a4ca82750e21097f34debc6d5d6da5730365deb2\n  Stored in directory: /home/boris/.cache/pip/wheels/02/94/6c/8474137cb7a5a3e001d70a22c8ff919caee69435376bccce79\nSuccessfully built paho-mqtt\nInstalling collected packages: paho-mqtt, requests-unixsocket, janus, azure-iot-device\nSuccessfully installed azure-iot-device-2.1.4 janus-0.4.0 paho-mqtt-1.5.0 requests-unixsocket-0.2.0\nCollecting azure-iot-hub\n\u001b[?25l  Downloading https://files.pythonhosted.org/packages/e0/18/657c12c851688c636bd03f7814d30b8420765f7e8dfb34f21503bc2257dc/azure_iot_hub-2.2.1-py2.py3-none-any.whl (106kB)\n\u001b[K     |████████████████████████████████| 112kB 2.1MB/s \n\u001b[?25hCollecting uamqp (from azure-iot-hub)\n\u001b[?25l  Downloading https://files.pythonhosted.org/packages/28/5a/d42103e45ca2e866e09759d84514542f816829ec2f6b04ac7eb218c81526/uamqp-1.2.10-cp37-cp37m-manylinux2010_x86_64.whl (3.0MB)\n\u001b[K     |████████████████████████████████| 3.0MB 14.2MB/s \n\u001b[?25hCollecting msrest (from azure-iot-hub)\n\u001b[?25l  Downloading https://files.pythonhosted.org/packages/d9/ed/8e1b75721ad983c1672cd968ad3ae374d2e94767edff6f0b72a15dfde933/msrest-0.6.18-py2.py3-none-any.whl (84kB)\n\u001b[K     |████████████████████████████████| 92kB 21.4MB/s \n\u001b[?25hRequirement already satisfied: certifi>=2017.4.17 in /home/boris/anaconda3/lib/python3.7/site-packages (from uamqp->azure-iot-hub) (2019.9.11)\nRequirement already satisfied: six~=1.0 in /home/boris/anaconda3/lib/python3.7/site-packages (from uamqp->azure-iot-hub) (1.12.0)\nRequirement already satisfied: requests~=2.16 in /home/boris/anaconda3/lib/python3.7/site-packages (from msrest->azure-iot-hub) (2.20.1)\nCollecting isodate>=0.6.0 (from msrest->azure-iot-hub)\n\u001b[?25l  Downloading https://files.pythonhosted.org/packages/9b/9f/b36f7774ff5ea8e428fdcfc4bb332c39ee5b9362ddd3d40d9516a55221b2/isodate-0.6.0-py2.py3-none-any.whl (45kB)\n\u001b[K     |████████████████████████████████| 51kB 11.4MB/s \n\u001b[?25hCollecting requests-oauthlib>=0.5.0 (from msrest->azure-iot-hub)\n  Downloading https://files.pythonhosted.org/packages/a3/12/b92740d845ab62ea4edf04d2f4164d82532b5a0b03836d4d4e71c6f3d379/requests_oauthlib-1.3.0-py2.py3-none-any.whl\nRequirement already satisfied: idna<2.8,>=2.5 in /home/boris/anaconda3/lib/python3.7/site-packages (from requests~=2.16->msrest->azure-iot-hub) (2.7)\nRequirement already satisfied: chardet<3.1.0,>=3.0.2 in /home/boris/anaconda3/lib/python3.7/site-packages (from requests~=2.16->msrest->azure-iot-hub) (3.0.4)\nRequirement already satisfied: urllib3<1.25,>=1.21.1 in /home/boris/anaconda3/lib/python3.7/site-packages (from requests~=2.16->msrest->azure-iot-hub) (1.24.2)\nCollecting oauthlib>=3.0.0 (from requests-oauthlib>=0.5.0->msrest->azure-iot-hub)\n\u001b[?25l  Downloading https://files.pythonhosted.org/packages/05/57/ce2e7a8fa7c0afb54a0581b14a65b56e62b5759dbc98e80627142b8a3704/oauthlib-3.1.0-py2.py3-none-any.whl (147kB)\n\u001b[K     |████████████████████████████████| 153kB 22.6MB/s \n\u001b[?25hInstalling collected packages: uamqp, isodate, oauthlib, requests-oauthlib, msrest, azure-iot-hub\nSuccessfully installed azure-iot-hub-2.2.1 isodate-0.6.0 msrest-0.6.18 oauthlib-3.1.0 requests-oauthlib-1.3.0 uamqp-1.2.10\nCollecting python-dotenv\n  Downloading https://files.pythonhosted.org/packages/f2/16/28d434b28c5be29a6af8fd0e3a2bda3bd30500ef0cd17bc79f7a6793a8d4/python_dotenv-0.14.0-py2.py3-none-any.whl\nInstalling collected packages: python-dotenv\nSuccessfully installed python-dotenv-0.14.0\n"
    }
   ],
   "source": [
    "!pip install azure-iot-device\n",
    "!pip install azure-iot-hub\n",
    "!pip install python-dotenv"
   ]
  },
  {
   "cell_type": "code",
   "execution_count": 2,
   "metadata": {},
   "outputs": [],
   "source": [
    "import sys\n",
    "from dotenv import get_key, find_dotenv\n",
    "sys.path.append('../utilities/video-analysis/shared/graph_manager')\n",
    "from graph_manager import GraphManager\n",
    "\n",
    "# find the environment file .env\n",
    "env_path = find_dotenv(raise_error_if_not_found=True)\n",
    "\n",
    "iotHubConnString = get_key(env_path, \"IOT_HUB_CONN_STRING\")\n",
    "iotDeviceId = get_key(env_path, \"IOT_DEVICE_ID\")\n",
    "\n",
    "moduleId = \"lvaEdge\" # Must be same as the name that we assigned to LVA module in the \"deployment.lvaedge_rocketserver_rtspsim.template.json\" file\n",
    "operationsApiVersion = \"1.0\"  # Must be same as the version number in the \"topology.json\" file\n",
    "\n",
    "graphManager = GraphManager(iotHubConnString, iotDeviceId, moduleId, operationsApiVersion)"
   ]
  },
  {
   "cell_type": "markdown",
   "metadata": {},
   "source": [
    "### List existing topologies"
   ]
  },
  {
   "cell_type": "code",
   "execution_count": 2,
   "metadata": {
    "tags": []
   },
   "outputs": [
    {
     "output_type": "stream",
     "name": "stdout",
     "text": "{'additional_properties': {}, 'status': 200, 'payload': {'value': []}}\n"
    }
   ],
   "source": [
    "# List topologies\n",
    "response = graphManager.GenericCall(\"GraphTopologyList\", {})\n",
    "print(response)"
   ]
  },
  {
   "cell_type": "code",
   "execution_count": 3,
   "metadata": {
    "tags": []
   },
   "outputs": [
    {
     "output_type": "stream",
     "name": "stdout",
     "text": "{'additional_properties': {}, 'status': 200, 'payload': {'value': []}}\n"
    }
   ],
   "source": [
    "# List instances\n",
    "response = graphManager.GenericCall(\"GraphInstanceList\", {})\n",
    "print(response)"
   ]
  },
  {
   "cell_type": "code",
   "execution_count": 4,
   "metadata": {},
   "outputs": [],
   "source": [
    "topologyFile = os.path.abspath(\"../modules/Detector/httpExtension/topology.json\")\n",
    "operationParams = {\"topologyFile\": topologyFile}"
   ]
  },
  {
   "cell_type": "code",
   "execution_count": 5,
   "metadata": {
    "tags": []
   },
   "outputs": [
    {
     "output_type": "stream",
     "name": "stdout",
     "text": "{'additional_properties': {}, 'status': 201, 'payload': {'systemData': {'createdAt': '2020-08-04T01:14:40.453Z', 'lastModifiedAt': '2020-08-04T01:14:40.453Z'}, 'name': 'InferencingWithHttpExtension', 'properties': {'description': 'Analyzing live video using HTTP Extension to send images to an external inference engine', 'parameters': [{'name': 'rtspUserName', 'type': 'String', 'description': 'rtsp source user name.', 'default': 'dummyUserName'}, {'name': 'rtspPassword', 'type': 'String', 'description': 'rtsp source password.', 'default': 'dummyPassword'}, {'name': 'rtspUrl', 'type': 'String', 'description': 'rtsp Url'}, {'name': 'inferencingUrl', 'type': 'String', 'description': 'inferencing Url', 'default': 'http://yolov3/score'}, {'name': 'inferencingUserName', 'type': 'String', 'description': 'inferencing endpoint user name.', 'default': 'dummyUserName'}, {'name': 'inferencingPassword', 'type': 'String', 'description': 'inferencing endpoint password.', 'default': 'dummyPassword'}, {'name': 'imageEncoding', 'type': 'String', 'description': 'image encoding for frames', 'default': 'bmp'}, {'name': 'imageScaleMode', 'type': 'String', 'description': 'image scaling mode', 'default': 'preserveAspectRatio'}, {'name': 'frameWidth', 'type': 'String', 'description': 'Width of the video frame to be received from LVA.', 'default': '416'}, {'name': 'frameHeight', 'type': 'String', 'description': 'Height of the video frame to be received from LVA.', 'default': '416'}, {'name': 'frameRate', 'type': 'String', 'description': 'Rate of the frames per second to be received from LVA.', 'default': '2'}], 'sources': [{'@type': '#Microsoft.Media.MediaGraphRtspSource', 'name': 'rtspSource', 'transport': 'tcp', 'endpoint': {'@type': '#Microsoft.Media.MediaGraphUnsecuredEndpoint', 'url': '${rtspUrl}', 'credentials': {'@type': '#Microsoft.Media.MediaGraphUsernamePasswordCredentials', 'username': '${rtspUserName}'}}}], 'processors': [{'@type': '#Microsoft.Media.MediaGraphFrameRateFilterProcessor', 'maximumFps': '${frameRate}', 'name': 'frameRateFilter', 'inputs': [{'nodeName': 'rtspSource', 'outputSelectors': []}]}, {'@type': '#Microsoft.Media.MediaGraphHttpExtension', 'endpoint': {'@type': '#Microsoft.Media.MediaGraphUnsecuredEndpoint', 'url': '${inferencingUrl}', 'credentials': {'@type': '#Microsoft.Media.MediaGraphUsernamePasswordCredentials', 'username': '${inferencingUserName}'}}, 'image': {'scale': {'mode': '${imageScaleMode}', 'width': '${frameWidth}', 'height': '${frameHeight}'}, 'format': {'@type': '#Microsoft.Media.MediaGraphImageFormatEncoded', 'encoding': '${imageEncoding}'}}, 'name': 'httpExtension', 'inputs': [{'nodeName': 'frameRateFilter', 'outputSelectors': []}]}], 'sinks': [{'@type': '#Microsoft.Media.MediaGraphIoTHubMessageSink', 'hubOutputName': 'inferenceOutput', 'name': 'hubSink', 'inputs': [{'nodeName': 'httpExtension', 'outputSelectors': []}]}]}}}\n"
    }
   ],
   "source": [
    "response = graphManager.GraphTopologySet(operationParams)\n",
    "print(response)"
   ]
  },
  {
   "cell_type": "markdown",
   "metadata": {},
   "source": [
    "### Set actual topology parameters"
   ]
  },
  {
   "cell_type": "code",
   "execution_count": 3,
   "metadata": {},
   "outputs": [
    {
     "output_type": "error",
     "ename": "KeyboardInterrupt",
     "evalue": "",
     "traceback": [
      "\u001b[0;31m---------------------------------------------------------------------------\u001b[0m",
      "\u001b[0;31mKeyboardInterrupt\u001b[0m                         Traceback (most recent call last)",
      "\u001b[0;32m<ipython-input-3-ecb62a49e936>\u001b[0m in \u001b[0;36m<module>\u001b[0;34m\u001b[0m\n\u001b[1;32m     16\u001b[0m               {\n\u001b[1;32m     17\u001b[0m                 \u001b[0;34m\"name\"\u001b[0m\u001b[0;34m:\u001b[0m \u001b[0;34m\"rtspUrl\"\u001b[0m\u001b[0;34m,\u001b[0m\u001b[0;34m\u001b[0m\u001b[0;34m\u001b[0m\u001b[0m\n\u001b[0;32m---> 18\u001b[0;31m                 \u001b[0;34m\"value\"\u001b[0m\u001b[0;34m:\u001b[0m \u001b[0mrtspUrl\u001b[0m\u001b[0;34m\u001b[0m\u001b[0;34m\u001b[0m\u001b[0m\n\u001b[0m\u001b[1;32m     19\u001b[0m               },\n\u001b[1;32m     20\u001b[0m               {\n",
      "\u001b[0;32m<ipython-input-3-ecb62a49e936>\u001b[0m in \u001b[0;36m<module>\u001b[0;34m\u001b[0m\n\u001b[1;32m     16\u001b[0m               {\n\u001b[1;32m     17\u001b[0m                 \u001b[0;34m\"name\"\u001b[0m\u001b[0;34m:\u001b[0m \u001b[0;34m\"rtspUrl\"\u001b[0m\u001b[0;34m,\u001b[0m\u001b[0;34m\u001b[0m\u001b[0;34m\u001b[0m\u001b[0m\n\u001b[0;32m---> 18\u001b[0;31m                 \u001b[0;34m\"value\"\u001b[0m\u001b[0;34m:\u001b[0m \u001b[0mrtspUrl\u001b[0m\u001b[0;34m\u001b[0m\u001b[0;34m\u001b[0m\u001b[0m\n\u001b[0m\u001b[1;32m     19\u001b[0m               },\n\u001b[1;32m     20\u001b[0m               {\n",
      "\u001b[0;32m_pydevd_bundle/pydevd_cython.pyx\u001b[0m in \u001b[0;36m_pydevd_bundle.pydevd_cython.SafeCallWrapper.__call__\u001b[0;34m()\u001b[0m\n",
      "\u001b[0;32m_pydevd_bundle/pydevd_cython.pyx\u001b[0m in \u001b[0;36m_pydevd_bundle.pydevd_cython.PyDBFrame.trace_dispatch\u001b[0;34m()\u001b[0m\n",
      "\u001b[0;32m_pydevd_bundle/pydevd_cython.pyx\u001b[0m in \u001b[0;36m_pydevd_bundle.pydevd_cython.PyDBFrame.trace_dispatch\u001b[0;34m()\u001b[0m\n",
      "\u001b[0;32m_pydevd_bundle/pydevd_cython.pyx\u001b[0m in \u001b[0;36m_pydevd_bundle.pydevd_cython.PyDBFrame.trace_dispatch\u001b[0;34m()\u001b[0m\n",
      "\u001b[0;32m_pydevd_bundle/pydevd_cython.pyx\u001b[0m in \u001b[0;36m_pydevd_bundle.pydevd_cython.PyDBFrame.do_wait_suspend\u001b[0;34m()\u001b[0m\n",
      "\u001b[0;32m~/.vscode/extensions/ms-python.python-2020.7.96456/pythonFiles/lib/python/debugpy/_vendored/pydevd/pydevd.py\u001b[0m in \u001b[0;36mdo_wait_suspend\u001b[0;34m(self, thread, frame, event, arg, is_unhandled_exception)\u001b[0m\n\u001b[1;32m   1839\u001b[0m \u001b[0;34m\u001b[0m\u001b[0m\n\u001b[1;32m   1840\u001b[0m             \u001b[0;32mwith\u001b[0m \u001b[0mself\u001b[0m\u001b[0;34m.\u001b[0m\u001b[0m_threads_suspended_single_notification\u001b[0m\u001b[0;34m.\u001b[0m\u001b[0mnotify_thread_suspended\u001b[0m\u001b[0;34m(\u001b[0m\u001b[0mthread_id\u001b[0m\u001b[0;34m,\u001b[0m \u001b[0mstop_reason\u001b[0m\u001b[0;34m)\u001b[0m\u001b[0;34m:\u001b[0m\u001b[0;34m\u001b[0m\u001b[0;34m\u001b[0m\u001b[0m\n\u001b[0;32m-> 1841\u001b[0;31m                 \u001b[0mkeep_suspended\u001b[0m \u001b[0;34m=\u001b[0m \u001b[0mself\u001b[0m\u001b[0;34m.\u001b[0m\u001b[0m_do_wait_suspend\u001b[0m\u001b[0;34m(\u001b[0m\u001b[0mthread\u001b[0m\u001b[0;34m,\u001b[0m \u001b[0mframe\u001b[0m\u001b[0;34m,\u001b[0m \u001b[0mevent\u001b[0m\u001b[0;34m,\u001b[0m \u001b[0marg\u001b[0m\u001b[0;34m,\u001b[0m \u001b[0msuspend_type\u001b[0m\u001b[0;34m,\u001b[0m \u001b[0mfrom_this_thread\u001b[0m\u001b[0;34m,\u001b[0m \u001b[0mframes_tracker\u001b[0m\u001b[0;34m)\u001b[0m\u001b[0;34m\u001b[0m\u001b[0;34m\u001b[0m\u001b[0m\n\u001b[0m\u001b[1;32m   1842\u001b[0m \u001b[0;34m\u001b[0m\u001b[0m\n\u001b[1;32m   1843\u001b[0m         \u001b[0mframes_list\u001b[0m \u001b[0;34m=\u001b[0m \u001b[0;32mNone\u001b[0m\u001b[0;34m\u001b[0m\u001b[0;34m\u001b[0m\u001b[0m\n",
      "\u001b[0;32m~/.vscode/extensions/ms-python.python-2020.7.96456/pythonFiles/lib/python/debugpy/_vendored/pydevd/pydevd.py\u001b[0m in \u001b[0;36m_do_wait_suspend\u001b[0;34m(self, thread, frame, event, arg, suspend_type, from_this_thread, frames_tracker)\u001b[0m\n\u001b[1;32m   1872\u001b[0m \u001b[0;34m\u001b[0m\u001b[0m\n\u001b[1;32m   1873\u001b[0m             \u001b[0mself\u001b[0m\u001b[0;34m.\u001b[0m\u001b[0mprocess_internal_commands\u001b[0m\u001b[0;34m(\u001b[0m\u001b[0;34m)\u001b[0m\u001b[0;34m\u001b[0m\u001b[0;34m\u001b[0m\u001b[0m\n\u001b[0;32m-> 1874\u001b[0;31m             \u001b[0mtime\u001b[0m\u001b[0;34m.\u001b[0m\u001b[0msleep\u001b[0m\u001b[0;34m(\u001b[0m\u001b[0;36m0.01\u001b[0m\u001b[0;34m)\u001b[0m\u001b[0;34m\u001b[0m\u001b[0;34m\u001b[0m\u001b[0m\n\u001b[0m\u001b[1;32m   1875\u001b[0m \u001b[0;34m\u001b[0m\u001b[0m\n\u001b[1;32m   1876\u001b[0m         \u001b[0mself\u001b[0m\u001b[0;34m.\u001b[0m\u001b[0mcancel_async_evaluation\u001b[0m\u001b[0;34m(\u001b[0m\u001b[0mget_current_thread_id\u001b[0m\u001b[0;34m(\u001b[0m\u001b[0mthread\u001b[0m\u001b[0;34m)\u001b[0m\u001b[0;34m,\u001b[0m \u001b[0mstr\u001b[0m\u001b[0;34m(\u001b[0m\u001b[0mid\u001b[0m\u001b[0;34m(\u001b[0m\u001b[0mframe\u001b[0m\u001b[0;34m)\u001b[0m\u001b[0;34m)\u001b[0m\u001b[0;34m)\u001b[0m\u001b[0;34m\u001b[0m\u001b[0;34m\u001b[0m\u001b[0m\n",
      "\u001b[0;31mKeyboardInterrupt\u001b[0m: "
     ]
    }
   ],
   "source": [
    "rtspUrl = get_key(env_path, \"CROSSING_VIDEO_URL\")\n",
    "\n",
    "#inferencingUrl = get_key(env_path, \"PEOPLE_DETECTOR\")\n",
    "inferencingUrl=get_key(env_path, \"OPENVINO_DETECTOR\")\n",
    "\n",
    "topologyInstanceName =  \"Sample-Graph-1\"\n",
    "topologyName = \"InferencingWithHttpExtension\"\n",
    "\n",
    "mediaGraphTopologyParameters = {\n",
    "          \"name\": topologyInstanceName,\n",
    "          \"properties\": {\n",
    "            \"topologyName\": topologyName,\n",
    "            \"description\": \"Sample graph description\",\n",
    "            \"parameters\": [\n",
    "              {\n",
    "                \"name\": \"rtspUrl\",\n",
    "                \"value\": rtspUrl\n",
    "              },\n",
    "              {\n",
    "                \"name\": \"rtspUserName\",\n",
    "                \"value\": \"username\"\n",
    "              },\n",
    "              {\n",
    "                \"name\": \"rtspPassword\",\n",
    "                \"value\": \"password\"\n",
    "              },\n",
    "              {\n",
    "                \"name\": \"inferencingUrl\",\n",
    "                \"value\": inferencingUrl\n",
    "              },\n",
    "              {\n",
    "                \"name\": \"inferencingUserName\",\n",
    "                \"value\": \"username\"\n",
    "              },\n",
    "              {\n",
    "                \"name\": \"inferencingPassword\",\n",
    "                \"value\": \"password\"\n",
    "              },\n",
    "              {\n",
    "                \"name\": \"imageEncoding\",\n",
    "                \"value\": \"jpeg\"\n",
    "              },\n",
    "              {\n",
    "                \"name\": \"imageScaleMode\",\n",
    "                \"value\": \"pad\"\n",
    "              },\n",
    "              {\n",
    "                \"name\": \"frameWidth\",\n",
    "                \"value\": \"1920\"\n",
    "              },\n",
    "              {\n",
    "                \"name\": \"frameHeight\",\n",
    "                \"value\": \"1072\"\n",
    "              },\n",
    "              {\n",
    "                \"name\": \"frameRate\",\n",
    "                \"value\": \"30\"\n",
    "              }\n",
    "            ]\n",
    "          }\n",
    "        }"
   ]
  },
  {
   "cell_type": "markdown",
   "metadata": {},
   "source": [
    "#### Set topology instance"
   ]
  },
  {
   "cell_type": "code",
   "execution_count": 7,
   "metadata": {
    "tags": []
   },
   "outputs": [
    {
     "output_type": "stream",
     "name": "stdout",
     "text": "{'additional_properties': {}, 'status': 201, 'payload': {'systemData': {'createdAt': '2020-08-04T01:14:58.283Z', 'lastModifiedAt': '2020-08-04T01:14:58.283Z'}, 'name': 'Sample-Graph-1', 'properties': {'state': 'Inactive', 'description': 'Sample graph description', 'topologyName': 'InferencingWithHttpExtension', 'parameters': [{'name': 'rtspUrl', 'value': 'rtsp://rtspsim/media/caffeteria.mkv'}, {'name': 'rtspUserName', 'value': 'username'}, {'name': 'rtspPassword', 'value': 'password'}, {'name': 'inferencingUrl', 'value': 'http://openvino:4000/personVehicleBikeDetection'}, {'name': 'inferencingUserName', 'value': 'username'}, {'name': 'inferencingPassword', 'value': 'password'}, {'name': 'imageEncoding', 'value': 'jpeg'}, {'name': 'imageScaleMode', 'value': 'pad'}, {'name': 'frameWidth', 'value': '1920'}, {'name': 'frameHeight', 'value': '1072'}, {'name': 'frameRate', 'value': '30'}]}}}\n"
    }
   ],
   "source": [
    "# Set topology instance\n",
    "response = graphManager.GenericCall(\"GraphInstanceSet\", mediaGraphTopologyParameters)\n",
    "print(response)"
   ]
  },
  {
   "cell_type": "markdown",
   "metadata": {},
   "source": [
    "### Activate Graph"
   ]
  },
  {
   "cell_type": "code",
   "execution_count": 8,
   "metadata": {
    "tags": []
   },
   "outputs": [
    {
     "output_type": "stream",
     "name": "stdout",
     "text": "{'additional_properties': {}, 'status': 200, 'payload': None}\n"
    }
   ],
   "source": [
    "# Activate topology instance\n",
    "operationParams = {\"name\": topologyInstanceName}\n",
    "\n",
    "response = graphManager.GenericCall(\"GraphInstanceActivate\", operationParams)\n",
    "print(response)"
   ]
  },
  {
   "cell_type": "markdown",
   "metadata": {},
   "source": [
    "### Deactivate Graph"
   ]
  },
  {
   "cell_type": "code",
   "execution_count": 49,
   "metadata": {
    "tags": []
   },
   "outputs": [
    {
     "output_type": "stream",
     "name": "stdout",
     "text": "{'additional_properties': {}, 'status': 200, 'payload': {'value': [{'systemData': {'createdAt': '2020-08-04T00:59:32.848Z', 'lastModifiedAt': '2020-08-04T00:59:32.848Z'}, 'name': 'Sample-Graph-1', 'properties': {'state': 'Active', 'description': 'Sample graph description', 'topologyName': 'InferencingWithHttpExtension', 'parameters': [{'name': 'rtspUrl', 'value': 'rtsp://rtspsim/media/caffeteria.mkv'}, {'name': 'rtspUserName', 'value': 'username'}, {'name': 'rtspPassword', 'value': 'password'}, {'name': 'inferencingUrl', 'value': 'http://127.0.0.1:4000/personVehicleBikeDetection'}, {'name': 'inferencingUserName', 'value': 'username'}, {'name': 'inferencingPassword', 'value': 'password'}, {'name': 'imageEncoding', 'value': 'jpeg'}, {'name': 'imageScaleMode', 'value': 'pad'}, {'name': 'frameWidth', 'value': '1920'}, {'name': 'frameHeight', 'value': '1072'}, {'name': 'frameRate', 'value': '30'}]}}]}}\n"
    }
   ],
   "source": [
    "graphManager.GenericCall(\"GraphInstanceDeactivate\", operationParams)\n",
    "print(response)\n",
    "\n"
   ]
  },
  {
   "cell_type": "markdown",
   "metadata": {},
   "source": [
    "### Delete Graph"
   ]
  },
  {
   "cell_type": "code",
   "execution_count": 50,
   "metadata": {
    "tags": []
   },
   "outputs": [
    {
     "output_type": "stream",
     "name": "stdout",
     "text": "{'additional_properties': {}, 'status': 200, 'payload': {'value': [{'systemData': {'createdAt': '2020-08-04T00:59:32.848Z', 'lastModifiedAt': '2020-08-04T00:59:32.848Z'}, 'name': 'Sample-Graph-1', 'properties': {'state': 'Active', 'description': 'Sample graph description', 'topologyName': 'InferencingWithHttpExtension', 'parameters': [{'name': 'rtspUrl', 'value': 'rtsp://rtspsim/media/caffeteria.mkv'}, {'name': 'rtspUserName', 'value': 'username'}, {'name': 'rtspPassword', 'value': 'password'}, {'name': 'inferencingUrl', 'value': 'http://127.0.0.1:4000/personVehicleBikeDetection'}, {'name': 'inferencingUserName', 'value': 'username'}, {'name': 'inferencingPassword', 'value': 'password'}, {'name': 'imageEncoding', 'value': 'jpeg'}, {'name': 'imageScaleMode', 'value': 'pad'}, {'name': 'frameWidth', 'value': '1920'}, {'name': 'frameHeight', 'value': '1072'}, {'name': 'frameRate', 'value': '30'}]}}]}}\n"
    }
   ],
   "source": [
    "graphManager.GenericCall(\"GraphInstanceDelete\", operationParams)\n",
    "print(response)"
   ]
  },
  {
   "cell_type": "markdown",
   "metadata": {},
   "source": [
    "### Delete Topology"
   ]
  },
  {
   "cell_type": "code",
   "execution_count": 51,
   "metadata": {
    "tags": []
   },
   "outputs": [
    {
     "output_type": "stream",
     "name": "stdout",
     "text": "{'additional_properties': {}, 'status': 200, 'payload': {'value': [{'systemData': {'createdAt': '2020-08-04T00:59:32.848Z', 'lastModifiedAt': '2020-08-04T00:59:32.848Z'}, 'name': 'Sample-Graph-1', 'properties': {'state': 'Active', 'description': 'Sample graph description', 'topologyName': 'InferencingWithHttpExtension', 'parameters': [{'name': 'rtspUrl', 'value': 'rtsp://rtspsim/media/caffeteria.mkv'}, {'name': 'rtspUserName', 'value': 'username'}, {'name': 'rtspPassword', 'value': 'password'}, {'name': 'inferencingUrl', 'value': 'http://127.0.0.1:4000/personVehicleBikeDetection'}, {'name': 'inferencingUserName', 'value': 'username'}, {'name': 'inferencingPassword', 'value': 'password'}, {'name': 'imageEncoding', 'value': 'jpeg'}, {'name': 'imageScaleMode', 'value': 'pad'}, {'name': 'frameWidth', 'value': '1920'}, {'name': 'frameHeight', 'value': '1072'}, {'name': 'frameRate', 'value': '30'}]}}]}}\n"
    }
   ],
   "source": [
    "deleteParams = {\"name\": topologyName}\n",
    "\n",
    "graphManager.GenericCall(\"GraphTopologyDelete\", deleteParams)\n",
    "print(response)"
   ]
  }
 ]
}